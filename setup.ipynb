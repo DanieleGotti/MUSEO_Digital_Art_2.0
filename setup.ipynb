{
  "nbformat": 4,
  "nbformat_minor": 0,
  "metadata": {
    "colab": {
      "provenance": [],
      "authorship_tag": "ABX9TyMK+/hD/X5pMNszVuIyr+M6",
      "include_colab_link": true
    },
    "kernelspec": {
      "name": "python3",
      "display_name": "Python 3"
    },
    "language_info": {
      "name": "python"
    }
  },
  "cells": [
    {
      "cell_type": "markdown",
      "metadata": {
        "id": "view-in-github",
        "colab_type": "text"
      },
      "source": [
        "<a href=\"https://colab.research.google.com/github/DanieleGotti/MUSEO_Digital_Art_2.0/blob/main/setup.ipynb\" target=\"_parent\"><img src=\"https://colab.research.google.com/assets/colab-badge.svg\" alt=\"Open In Colab\"/></a>"
      ]
    },
    {
      "cell_type": "markdown",
      "source": [
        "1. Installazione Django"
      ],
      "metadata": {
        "id": "5REgJkqX7iQS"
      }
    },
    {
      "cell_type": "code",
      "execution_count": 1,
      "metadata": {
        "colab": {
          "base_uri": "https://localhost:8080/"
        },
        "id": "jpZRNK0Q284c",
        "outputId": "184ad013-ac4a-4b4f-a438-7643a1787fdd"
      },
      "outputs": [
        {
          "output_type": "stream",
          "name": "stdout",
          "text": [
            "Collecting Django\n",
            "  Downloading Django-5.0.6-py3-none-any.whl (8.2 MB)\n",
            "\u001b[2K     \u001b[90m━━━━━━━━━━━━━━━━━━━━━━━━━━━━━━━━━━━━━━━━\u001b[0m \u001b[32m8.2/8.2 MB\u001b[0m \u001b[31m42.7 MB/s\u001b[0m eta \u001b[36m0:00:00\u001b[0m\n",
            "\u001b[?25hCollecting asgiref<4,>=3.7.0 (from Django)\n",
            "  Downloading asgiref-3.8.1-py3-none-any.whl (23 kB)\n",
            "Requirement already satisfied: sqlparse>=0.3.1 in /usr/local/lib/python3.10/dist-packages (from Django) (0.5.0)\n",
            "Requirement already satisfied: typing-extensions>=4 in /usr/local/lib/python3.10/dist-packages (from asgiref<4,>=3.7.0->Django) (4.11.0)\n",
            "Installing collected packages: asgiref, Django\n",
            "Successfully installed Django-5.0.6 asgiref-3.8.1\n"
          ]
        }
      ],
      "source": [
        "!pip install Django"
      ]
    },
    {
      "cell_type": "markdown",
      "source": [
        "2. Creazione del progetto"
      ],
      "metadata": {
        "id": "b1beJOkX7tKG"
      }
    },
    {
      "cell_type": "code",
      "source": [
        "!django-admin startproject MuseoDigitalArt2"
      ],
      "metadata": {
        "id": "tOvQttlm6aVU"
      },
      "execution_count": 2,
      "outputs": []
    },
    {
      "cell_type": "markdown",
      "source": [
        "3. Modifica del file settings.py:\n",
        "\n",
        "ALLOWED_HOSTS = ['colab.research.google.com']"
      ],
      "metadata": {
        "id": "ehRqu1xw7yRX"
      }
    },
    {
      "cell_type": "markdown",
      "source": [
        "4. Selezione della cartella di progetto"
      ],
      "metadata": {
        "id": "cybZ0hBg8cvm"
      }
    },
    {
      "cell_type": "code",
      "source": [
        "%cd MuseoDigitalArt2/"
      ],
      "metadata": {
        "colab": {
          "base_uri": "https://localhost:8080/"
        },
        "id": "bJQhgNvl7Ecr",
        "outputId": "bb45aa54-dbd8-4bae-e09c-2a37d2cc9bb0"
      },
      "execution_count": 3,
      "outputs": [
        {
          "output_type": "stream",
          "name": "stdout",
          "text": [
            "/content/MuseoDigitalArt2\n"
          ]
        }
      ]
    },
    {
      "cell_type": "markdown",
      "source": [
        "5. Setup del server"
      ],
      "metadata": {
        "id": "PKQ-41uh8hem"
      }
    },
    {
      "cell_type": "markdown",
      "source": [],
      "metadata": {
        "id": "5AYiE2OO8BLD"
      }
    },
    {
      "cell_type": "code",
      "source": [
        "from google.colab.output import eval_js"
      ],
      "metadata": {
        "id": "6dC1WtL47MMV"
      },
      "execution_count": 4,
      "outputs": []
    },
    {
      "cell_type": "markdown",
      "source": [
        "6. Ottenimento del link"
      ],
      "metadata": {
        "id": "hjbBqM6D8lqO"
      }
    },
    {
      "cell_type": "code",
      "source": [
        "print(eval_js(\"google.colab.kernel.proxyPort(8000)\"))"
      ],
      "metadata": {
        "colab": {
          "base_uri": "https://localhost:8080/",
          "height": 34
        },
        "id": "HbH0K5cQ7QsS",
        "outputId": "5b9cc292-b5ab-40c5-f6f4-5db72687342a"
      },
      "execution_count": 5,
      "outputs": [
        {
          "output_type": "stream",
          "name": "stdout",
          "text": [
            "https://4tgvicug2rs-496ff2e9c6d22116-8000-colab.googleusercontent.com/\n"
          ]
        }
      ]
    },
    {
      "cell_type": "markdown",
      "source": [
        "7. Lancio del server"
      ],
      "metadata": {
        "id": "VjUJDlEZ8poh"
      }
    },
    {
      "cell_type": "code",
      "source": [
        "!python manage.py runserver 8000"
      ],
      "metadata": {
        "colab": {
          "base_uri": "https://localhost:8080/"
        },
        "id": "W3G1yuAC7T9-",
        "outputId": "580144b4-6ead-44d5-8a2a-136d7171caf9"
      },
      "execution_count": 7,
      "outputs": [
        {
          "output_type": "stream",
          "name": "stdout",
          "text": [
            "Watching for file changes with StatReloader\n",
            "Performing system checks...\n",
            "\n",
            "System check identified no issues (0 silenced).\n",
            "\u001b[31m\n",
            "You have 18 unapplied migration(s). Your project may not work properly until you apply the migrations for app(s): admin, auth, contenttypes, sessions.\u001b[0m\n",
            "\u001b[31mRun 'python manage.py migrate' to apply them.\u001b[0m\n",
            "June 11, 2024 - 20:18:44\n",
            "Django version 5.0.6, using settings 'MuseoDigitalArt2.settings'\n",
            "Starting development server at http://127.0.0.1:8000/\n",
            "Quit the server with CONTROL-C.\n",
            "\n",
            "[11/Jun/2024 20:18:52] \u001b[m\"GET / HTTP/1.1\" 200 10629\u001b[0m\n",
            "Not Found: /favicon.ico\n",
            "[11/Jun/2024 20:18:53] \u001b[33m\"GET /favicon.ico HTTP/1.1\" 404 2131\u001b[0m\n"
          ]
        }
      ]
    }
  ]
}